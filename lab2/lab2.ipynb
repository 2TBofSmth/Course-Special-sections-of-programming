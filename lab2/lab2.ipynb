{
 "cells": [
  {
   "cell_type": "markdown",
   "source": [
    "# Спеціальні розділи програмування\n",
    "# Лабораторна робота №2\n",
    "# Наука про дані: підготовчий етап\n"
   ],
   "metadata": {
    "collapsed": false
   },
   "id": "7a57eaa1d64d6d23"
  },
  {
   "cell_type": "code",
   "execution_count": 4,
   "outputs": [],
   "source": [
    "import pandas as pd\n",
    "from urllib import request\n",
    "from os import listdir, makedirs, walk, path\n",
    "from shutil import rmtree\n",
    "from datetime import datetime\n",
    "from re import search"
   ],
   "metadata": {
    "collapsed": false,
    "ExecuteTime": {
     "end_time": "2024-10-21T11:44:14.283328300Z",
     "start_time": "2024-10-21T11:44:14.266107700Z"
    }
   },
   "id": "initial_id"
  },
  {
   "cell_type": "markdown",
   "source": [
    "### Перевірка заданої папки на порожність. Якщо вона не порожня - папка очищується "
   ],
   "metadata": {
    "collapsed": false
   },
   "id": "23ab5deb924ba3ce"
  },
  {
   "cell_type": "code",
   "execution_count": 0,
   "outputs": [],
   "source": [
    "def check_folder(folder_path):\n",
    "    if listdir(folder_path):\n",
    "        rmtree(folder_path)\n",
    "        makedirs(folder_path)"
   ],
   "metadata": {
    "collapsed": false
   },
   "id": "4f376b7b11b71f80"
  },
  {
   "cell_type": "code",
   "execution_count": null,
   "outputs": [],
   "source": [
    "check_folder('data')"
   ],
   "metadata": {
    "collapsed": false
   },
   "id": "dffc191c4b1b0468"
  },
  {
   "cell_type": "markdown",
   "source": [
    "### Скачування даних в папку data"
   ],
   "metadata": {
    "collapsed": false
   },
   "id": "8d45b07074596b1c"
  },
  {
   "cell_type": "code",
   "execution_count": 5,
   "outputs": [],
   "source": [
    "def download_data(province_id):\n",
    "    url = f'https://www.star.nesdis.noaa.gov/smcd/emb/vci/VH/get_TS_admin.php?country=UKR&provinceID={province_id}&year1=1981&year2=2024&type=Mean'\n",
    "\n",
    "    try:\n",
    "        vhi = request.urlopen(url).read().decode('utf-8')\n",
    "        now = datetime.now()\n",
    "        formatted_time = now.strftime('%d%m%Y%H%M%S')\n",
    "        with open(f'data/vhi_id_{province_id}_{formatted_time}.csv', 'w') as f:\n",
    "            f.write(vhi)\n",
    "        \n",
    "    except Exception as e:\n",
    "        print(f'An error occurred while loading file with province id {province_id}')   "
   ],
   "metadata": {
    "collapsed": false,
    "ExecuteTime": {
     "start_time": "2024-10-21T11:44:16.018436100Z"
    }
   },
   "id": "62211c2b88cda0d5"
  },
  {
   "cell_type": "code",
   "execution_count": 4,
   "outputs": [],
   "source": [
    "for i in range(1, 28):\n",
    "    download_data(i)"
   ],
   "metadata": {
    "collapsed": false,
    "ExecuteTime": {
     "start_time": "2024-10-20T14:31:38.009484900Z"
    }
   },
   "id": "25894aff10a7aa47"
  },
  {
   "cell_type": "markdown",
   "source": [
    "### Конвертація файлів в датафрейми та препроцесинг"
   ],
   "metadata": {
    "collapsed": false
   },
   "id": "4bccbf4b2baf32be"
  },
  {
   "cell_type": "code",
   "execution_count": 6,
   "outputs": [],
   "source": [
    "def create_df(file_path, norm_province_id):\n",
    "    headers = ['Year', 'Week', 'SMN', 'SMT', 'VCI', 'TCI', 'VHI', 'empty']\n",
    "    temp_df = pd.read_csv(file_path, header = 1, names = headers)\n",
    "    temp_df = temp_df.drop(temp_df.loc[temp_df['VHI'] == -1].index)\n",
    "    temp_df.loc[0, 'Year'] = temp_df.loc[0, 'Year'][9:]\n",
    "    temp_df = temp_df.drop(columns='empty').drop(temp_df.index[-1])\n",
    "    temp_df['area'] = norm_province_id\n",
    "    temp_df['Year'] = temp_df['Year'].astype(int)\n",
    "    \n",
    "    return temp_df\n",
    "\n",
    "def get_paths(dir_path):\n",
    "    file_paths = []\n",
    "    for root, dirs, files in walk(dir_path):\n",
    "        for i in files:\n",
    "            file_paths.append(path.join(root, i))\n",
    "            \n",
    "    return file_paths  \n",
    "\n",
    "def find_province_id(file_path):\n",
    "    with open(file_path, 'r') as f:\n",
    "        return int(search(r'Province\\s*=\\s*(\\d+)', f.readline()).group(1))"
   ],
   "metadata": {
    "collapsed": false,
    "ExecuteTime": {
     "end_time": "2024-10-21T11:44:19.031409500Z",
     "start_time": "2024-10-21T11:44:19.008988700Z"
    }
   },
   "id": "480970d06ec483f"
  },
  {
   "cell_type": "code",
   "execution_count": 7,
   "outputs": [],
   "source": [
    "replacements = {1: 22, 2: 24, 3: 23, 4: 25, 5: 3, 6: 4, 7: 8, 8: 19, 9: 20, 10: 21, 11: 9, 12: 9,\n",
    "              13: 10, 14: 11, 15: 12, 16: 13, 17: 14, 18: 15, 19: 16, 20: 25, 21: 17, 22: 18,\n",
    "              23: 6, 24: 1, 25: 2, 26: 7, 27: 5}\n",
    "\n",
    "adf = pd.concat([create_df(i, replacements[find_province_id(i)]) for i in get_paths('data')])"
   ],
   "metadata": {
    "collapsed": false,
    "ExecuteTime": {
     "end_time": "2024-10-21T11:44:21.659673500Z",
     "start_time": "2024-10-21T11:44:21.105769500Z"
    }
   },
   "id": "da1944624d8bc743"
  },
  {
   "cell_type": "markdown",
   "source": [
    "### Формування ряду VHI для області за вказаний рік"
   ],
   "metadata": {
    "collapsed": false
   },
   "id": "156e342bbd3140c1"
  },
  {
   "cell_type": "code",
   "execution_count": 33,
   "outputs": [],
   "source": [
    "def form_vhi_series(df, province_id, year):\n",
    "    filtered_df = df.loc[(df['area'] == province_id) & (df['Year'] == year)]\n",
    "    final_s = pd.Series(filtered_df['VHI']).reset_index(drop=True)\n",
    "    return final_s"
   ],
   "metadata": {
    "collapsed": false,
    "ExecuteTime": {
     "end_time": "2024-10-21T12:01:10.136723Z",
     "start_time": "2024-10-21T12:01:10.109597600Z"
    }
   },
   "id": "4dc27e60a7bde50f"
  },
  {
   "cell_type": "code",
   "execution_count": 34,
   "outputs": [
    {
     "data": {
      "text/plain": "0     48.95\n1     49.23\n2     49.29\n3     49.40\n4     49.75\n5     50.26\n6     51.12\n7     51.59\n8     51.52\n9     51.72\n10    53.95\n11    54.34\n12    53.33\n13    49.66\n14    46.15\n15    44.75\n16    47.56\n17    50.23\n18    54.72\n19    58.87\n20    59.81\n21    59.57\n22    58.94\n23    57.49\n24    57.55\n25    57.08\n26    57.66\n27    58.42\n28    59.87\n29    61.93\n30    59.20\n31    55.89\n32    54.46\n33    53.15\n34    52.23\n35    52.97\n36    51.53\n37    49.61\n38    49.33\n39    51.11\n40    51.00\n41    49.02\n42    47.42\n43    44.78\n44    42.99\n45    42.10\n46    44.00\n47    44.32\n48    43.66\n49    40.92\n50    39.48\n51    40.91\nName: VHI, dtype: float64"
     },
     "execution_count": 34,
     "metadata": {},
     "output_type": "execute_result"
    }
   ],
   "source": [
    "form_vhi_series(adf, 2, 2020)"
   ],
   "metadata": {
    "collapsed": false,
    "ExecuteTime": {
     "end_time": "2024-10-21T12:01:11.412215700Z",
     "start_time": "2024-10-21T12:01:11.316836100Z"
    }
   },
   "id": "f3bd0578ad6992e0"
  },
  {
   "cell_type": "markdown",
   "source": [
    "### Пошук екстремумів для вказаних областей та років, середнього, медіани"
   ],
   "metadata": {
    "collapsed": false
   },
   "id": "a191dfc26aa3a055"
  },
  {
   "cell_type": "code",
   "execution_count": 37,
   "outputs": [],
   "source": [
    "def find_mct(df, province_ids, year1, year2):\n",
    "    temp_df = df.loc[(df['area'].isin(province_ids)) & (df['Year'].between(year1, year2))]\n",
    "    temp_df = temp_df[['area', 'Year', 'VHI']]\n",
    "    mct_vhi = df.groupby(['Year', 'area'])['VHI'].agg(['mean', 'min', 'max', 'median']).reset_index()\n",
    "    mct_vhi.rename(columns={'mean': 'mean_VHI', 'min': 'min_VHI', 'max': 'max_VHI', \n",
    "                            'median': 'median_VHI'}, inplace=True)\n",
    "    temp_df = temp_df.merge(mct_vhi, on=['Year', 'area'])\n",
    "    temp_df = temp_df.drop(['VHI'], axis=1)\n",
    "    temp_df = temp_df.drop_duplicates()\n",
    "    temp_df.reset_index(drop=True, inplace=True)\n",
    "    \n",
    "    return temp_df "
   ],
   "metadata": {
    "collapsed": false,
    "ExecuteTime": {
     "end_time": "2024-10-21T12:03:13.634202700Z",
     "start_time": "2024-10-21T12:03:13.608170500Z"
    }
   },
   "id": "d4c41579c3823a5e"
  },
  {
   "cell_type": "code",
   "execution_count": 38,
   "outputs": [
    {
     "data": {
      "text/plain": "    area  Year   mean_VHI  min_VHI  max_VHI  median_VHI\n0     10  1999  47.952692    33.23    70.57      45.555\n1     10  2000  42.436346    16.84    60.69      41.740\n2     10  2001  53.611538    38.30    84.52      47.930\n3     10  2002  49.776731    37.02    65.11      47.780\n4     10  2003  47.911961    22.93    73.62      46.030\n5     10  2004  64.158824    47.43    82.89      66.640\n6     10  2005  49.579020    37.33    69.22      46.580\n7     10  2006  46.344038    34.98    65.40      44.390\n8     10  2007  41.782115    16.75    64.11      43.780\n9     10  2008  50.656154    30.07    80.17      48.015\n10    10  2009  46.385577    37.83    64.87      45.665\n11     3  1999  44.864231    34.45    66.66      42.645\n12     3  2000  43.996538    17.77    61.55      46.055\n13     3  2001  53.280385    30.84    80.44      51.570\n14     3  2002  50.950577    32.24    73.56      49.985\n15     3  2003  53.637843    23.12    90.29      50.650\n16     3  2004  67.785588    48.54    89.38      68.825\n17     3  2005  49.085686    29.78    72.45      48.100\n18     3  2006  44.414808    29.10    63.40      43.805\n19     3  2007  39.800962    21.97    58.89      39.695\n20     3  2008  48.424231    28.51    78.59      45.410\n21     3  2009  44.971731    35.33    59.38      43.855\n22     8  1999  50.899038    36.98    66.02      51.695\n23     8  2000  42.263269    18.98    60.12      45.985\n24     8  2001  57.153462    38.32    73.35      55.735\n25     8  2002  52.720385    41.74    61.43      53.065\n26     8  2003  48.863529    43.34    58.49      48.570\n27     8  2004  55.250294    45.47    69.07      54.875\n28     8  2005  54.682941    46.53    62.77      55.710\n29     8  2006  53.225385    46.67    65.12      51.090\n30     8  2007  47.846731    35.46    60.24      48.420\n31     8  2008  50.736923    37.62    62.61      50.465\n32     8  2009  45.732692    28.52    63.52      43.875",
      "text/html": "<div>\n<style scoped>\n    .dataframe tbody tr th:only-of-type {\n        vertical-align: middle;\n    }\n\n    .dataframe tbody tr th {\n        vertical-align: top;\n    }\n\n    .dataframe thead th {\n        text-align: right;\n    }\n</style>\n<table border=\"1\" class=\"dataframe\">\n  <thead>\n    <tr style=\"text-align: right;\">\n      <th></th>\n      <th>area</th>\n      <th>Year</th>\n      <th>mean_VHI</th>\n      <th>min_VHI</th>\n      <th>max_VHI</th>\n      <th>median_VHI</th>\n    </tr>\n  </thead>\n  <tbody>\n    <tr>\n      <th>0</th>\n      <td>10</td>\n      <td>1999</td>\n      <td>47.952692</td>\n      <td>33.23</td>\n      <td>70.57</td>\n      <td>45.555</td>\n    </tr>\n    <tr>\n      <th>1</th>\n      <td>10</td>\n      <td>2000</td>\n      <td>42.436346</td>\n      <td>16.84</td>\n      <td>60.69</td>\n      <td>41.740</td>\n    </tr>\n    <tr>\n      <th>2</th>\n      <td>10</td>\n      <td>2001</td>\n      <td>53.611538</td>\n      <td>38.30</td>\n      <td>84.52</td>\n      <td>47.930</td>\n    </tr>\n    <tr>\n      <th>3</th>\n      <td>10</td>\n      <td>2002</td>\n      <td>49.776731</td>\n      <td>37.02</td>\n      <td>65.11</td>\n      <td>47.780</td>\n    </tr>\n    <tr>\n      <th>4</th>\n      <td>10</td>\n      <td>2003</td>\n      <td>47.911961</td>\n      <td>22.93</td>\n      <td>73.62</td>\n      <td>46.030</td>\n    </tr>\n    <tr>\n      <th>5</th>\n      <td>10</td>\n      <td>2004</td>\n      <td>64.158824</td>\n      <td>47.43</td>\n      <td>82.89</td>\n      <td>66.640</td>\n    </tr>\n    <tr>\n      <th>6</th>\n      <td>10</td>\n      <td>2005</td>\n      <td>49.579020</td>\n      <td>37.33</td>\n      <td>69.22</td>\n      <td>46.580</td>\n    </tr>\n    <tr>\n      <th>7</th>\n      <td>10</td>\n      <td>2006</td>\n      <td>46.344038</td>\n      <td>34.98</td>\n      <td>65.40</td>\n      <td>44.390</td>\n    </tr>\n    <tr>\n      <th>8</th>\n      <td>10</td>\n      <td>2007</td>\n      <td>41.782115</td>\n      <td>16.75</td>\n      <td>64.11</td>\n      <td>43.780</td>\n    </tr>\n    <tr>\n      <th>9</th>\n      <td>10</td>\n      <td>2008</td>\n      <td>50.656154</td>\n      <td>30.07</td>\n      <td>80.17</td>\n      <td>48.015</td>\n    </tr>\n    <tr>\n      <th>10</th>\n      <td>10</td>\n      <td>2009</td>\n      <td>46.385577</td>\n      <td>37.83</td>\n      <td>64.87</td>\n      <td>45.665</td>\n    </tr>\n    <tr>\n      <th>11</th>\n      <td>3</td>\n      <td>1999</td>\n      <td>44.864231</td>\n      <td>34.45</td>\n      <td>66.66</td>\n      <td>42.645</td>\n    </tr>\n    <tr>\n      <th>12</th>\n      <td>3</td>\n      <td>2000</td>\n      <td>43.996538</td>\n      <td>17.77</td>\n      <td>61.55</td>\n      <td>46.055</td>\n    </tr>\n    <tr>\n      <th>13</th>\n      <td>3</td>\n      <td>2001</td>\n      <td>53.280385</td>\n      <td>30.84</td>\n      <td>80.44</td>\n      <td>51.570</td>\n    </tr>\n    <tr>\n      <th>14</th>\n      <td>3</td>\n      <td>2002</td>\n      <td>50.950577</td>\n      <td>32.24</td>\n      <td>73.56</td>\n      <td>49.985</td>\n    </tr>\n    <tr>\n      <th>15</th>\n      <td>3</td>\n      <td>2003</td>\n      <td>53.637843</td>\n      <td>23.12</td>\n      <td>90.29</td>\n      <td>50.650</td>\n    </tr>\n    <tr>\n      <th>16</th>\n      <td>3</td>\n      <td>2004</td>\n      <td>67.785588</td>\n      <td>48.54</td>\n      <td>89.38</td>\n      <td>68.825</td>\n    </tr>\n    <tr>\n      <th>17</th>\n      <td>3</td>\n      <td>2005</td>\n      <td>49.085686</td>\n      <td>29.78</td>\n      <td>72.45</td>\n      <td>48.100</td>\n    </tr>\n    <tr>\n      <th>18</th>\n      <td>3</td>\n      <td>2006</td>\n      <td>44.414808</td>\n      <td>29.10</td>\n      <td>63.40</td>\n      <td>43.805</td>\n    </tr>\n    <tr>\n      <th>19</th>\n      <td>3</td>\n      <td>2007</td>\n      <td>39.800962</td>\n      <td>21.97</td>\n      <td>58.89</td>\n      <td>39.695</td>\n    </tr>\n    <tr>\n      <th>20</th>\n      <td>3</td>\n      <td>2008</td>\n      <td>48.424231</td>\n      <td>28.51</td>\n      <td>78.59</td>\n      <td>45.410</td>\n    </tr>\n    <tr>\n      <th>21</th>\n      <td>3</td>\n      <td>2009</td>\n      <td>44.971731</td>\n      <td>35.33</td>\n      <td>59.38</td>\n      <td>43.855</td>\n    </tr>\n    <tr>\n      <th>22</th>\n      <td>8</td>\n      <td>1999</td>\n      <td>50.899038</td>\n      <td>36.98</td>\n      <td>66.02</td>\n      <td>51.695</td>\n    </tr>\n    <tr>\n      <th>23</th>\n      <td>8</td>\n      <td>2000</td>\n      <td>42.263269</td>\n      <td>18.98</td>\n      <td>60.12</td>\n      <td>45.985</td>\n    </tr>\n    <tr>\n      <th>24</th>\n      <td>8</td>\n      <td>2001</td>\n      <td>57.153462</td>\n      <td>38.32</td>\n      <td>73.35</td>\n      <td>55.735</td>\n    </tr>\n    <tr>\n      <th>25</th>\n      <td>8</td>\n      <td>2002</td>\n      <td>52.720385</td>\n      <td>41.74</td>\n      <td>61.43</td>\n      <td>53.065</td>\n    </tr>\n    <tr>\n      <th>26</th>\n      <td>8</td>\n      <td>2003</td>\n      <td>48.863529</td>\n      <td>43.34</td>\n      <td>58.49</td>\n      <td>48.570</td>\n    </tr>\n    <tr>\n      <th>27</th>\n      <td>8</td>\n      <td>2004</td>\n      <td>55.250294</td>\n      <td>45.47</td>\n      <td>69.07</td>\n      <td>54.875</td>\n    </tr>\n    <tr>\n      <th>28</th>\n      <td>8</td>\n      <td>2005</td>\n      <td>54.682941</td>\n      <td>46.53</td>\n      <td>62.77</td>\n      <td>55.710</td>\n    </tr>\n    <tr>\n      <th>29</th>\n      <td>8</td>\n      <td>2006</td>\n      <td>53.225385</td>\n      <td>46.67</td>\n      <td>65.12</td>\n      <td>51.090</td>\n    </tr>\n    <tr>\n      <th>30</th>\n      <td>8</td>\n      <td>2007</td>\n      <td>47.846731</td>\n      <td>35.46</td>\n      <td>60.24</td>\n      <td>48.420</td>\n    </tr>\n    <tr>\n      <th>31</th>\n      <td>8</td>\n      <td>2008</td>\n      <td>50.736923</td>\n      <td>37.62</td>\n      <td>62.61</td>\n      <td>50.465</td>\n    </tr>\n    <tr>\n      <th>32</th>\n      <td>8</td>\n      <td>2009</td>\n      <td>45.732692</td>\n      <td>28.52</td>\n      <td>63.52</td>\n      <td>43.875</td>\n    </tr>\n  </tbody>\n</table>\n</div>"
     },
     "execution_count": 38,
     "metadata": {},
     "output_type": "execute_result"
    }
   ],
   "source": [
    "find_mct(adf, [3, 8, 10], 1999, 2009)"
   ],
   "metadata": {
    "collapsed": false,
    "ExecuteTime": {
     "end_time": "2024-10-21T12:03:14.873090400Z",
     "start_time": "2024-10-21T12:03:14.815024700Z"
    }
   },
   "id": "4714e86f2b1a183"
  },
  {
   "cell_type": "markdown",
   "source": [
    "### Формування ряду VHI за вказаний діапазон років для вказаних областей"
   ],
   "metadata": {
    "collapsed": false
   },
   "id": "4ae2ee4c7324ad6f"
  },
  {
   "cell_type": "code",
   "execution_count": 13,
   "outputs": [],
   "source": [
    "def form_vhi_df(df, province_ids, start_year, end_year):\n",
    "    temp_df = df.loc[(df['area'].isin(province_ids)) & (df['Year'].between(start_year, end_year))]\n",
    "    temp_df = temp_df[['area', 'Year', 'Week', 'VHI']]\n",
    "    temp_df = temp_df.drop_duplicates()\n",
    "    temp_df.reset_index(drop=True, inplace=True)\n",
    "    \n",
    "    return temp_df"
   ],
   "metadata": {
    "collapsed": false,
    "ExecuteTime": {
     "end_time": "2024-10-21T11:47:43.360175500Z",
     "start_time": "2024-10-21T11:47:43.336533200Z"
    }
   },
   "id": "4cb8de7f6700ae7e"
  },
  {
   "cell_type": "code",
   "execution_count": 14,
   "outputs": [
    {
     "data": {
      "text/plain": "      area  Year  Week    VHI\n0       21  1991   1.0  27.59\n1       21  1991   2.0  31.77\n2       21  1991   3.0  35.51\n3       21  1991   4.0  39.04\n4       21  1991   5.0  39.52\n...    ...   ...   ...    ...\n2686     4  2008  48.0  40.71\n2687     4  2008  49.0  40.16\n2688     4  2008  50.0  40.74\n2689     4  2008  51.0  46.55\n2690     4  2008  52.0  53.57\n\n[2691 rows x 4 columns]",
      "text/html": "<div>\n<style scoped>\n    .dataframe tbody tr th:only-of-type {\n        vertical-align: middle;\n    }\n\n    .dataframe tbody tr th {\n        vertical-align: top;\n    }\n\n    .dataframe thead th {\n        text-align: right;\n    }\n</style>\n<table border=\"1\" class=\"dataframe\">\n  <thead>\n    <tr style=\"text-align: right;\">\n      <th></th>\n      <th>area</th>\n      <th>Year</th>\n      <th>Week</th>\n      <th>VHI</th>\n    </tr>\n  </thead>\n  <tbody>\n    <tr>\n      <th>0</th>\n      <td>21</td>\n      <td>1991</td>\n      <td>1.0</td>\n      <td>27.59</td>\n    </tr>\n    <tr>\n      <th>1</th>\n      <td>21</td>\n      <td>1991</td>\n      <td>2.0</td>\n      <td>31.77</td>\n    </tr>\n    <tr>\n      <th>2</th>\n      <td>21</td>\n      <td>1991</td>\n      <td>3.0</td>\n      <td>35.51</td>\n    </tr>\n    <tr>\n      <th>3</th>\n      <td>21</td>\n      <td>1991</td>\n      <td>4.0</td>\n      <td>39.04</td>\n    </tr>\n    <tr>\n      <th>4</th>\n      <td>21</td>\n      <td>1991</td>\n      <td>5.0</td>\n      <td>39.52</td>\n    </tr>\n    <tr>\n      <th>...</th>\n      <td>...</td>\n      <td>...</td>\n      <td>...</td>\n      <td>...</td>\n    </tr>\n    <tr>\n      <th>2686</th>\n      <td>4</td>\n      <td>2008</td>\n      <td>48.0</td>\n      <td>40.71</td>\n    </tr>\n    <tr>\n      <th>2687</th>\n      <td>4</td>\n      <td>2008</td>\n      <td>49.0</td>\n      <td>40.16</td>\n    </tr>\n    <tr>\n      <th>2688</th>\n      <td>4</td>\n      <td>2008</td>\n      <td>50.0</td>\n      <td>40.74</td>\n    </tr>\n    <tr>\n      <th>2689</th>\n      <td>4</td>\n      <td>2008</td>\n      <td>51.0</td>\n      <td>46.55</td>\n    </tr>\n    <tr>\n      <th>2690</th>\n      <td>4</td>\n      <td>2008</td>\n      <td>52.0</td>\n      <td>53.57</td>\n    </tr>\n  </tbody>\n</table>\n<p>2691 rows × 4 columns</p>\n</div>"
     },
     "execution_count": 14,
     "metadata": {},
     "output_type": "execute_result"
    }
   ],
   "source": [
    "form_vhi_df(adf, [4, 15, 21], 1991, 2008)"
   ],
   "metadata": {
    "collapsed": false,
    "ExecuteTime": {
     "end_time": "2024-10-21T11:47:44.804795300Z",
     "start_time": "2024-10-21T11:47:44.767751800Z"
    }
   },
   "id": "e200723b2e6a91cf"
  },
  {
   "cell_type": "markdown",
   "source": [
    "### Виявлення років, протягом яких екстремальні посухи торкнулися більше вказаного відсотка областей по Україні"
   ],
   "metadata": {
    "collapsed": false
   },
   "id": "6749bb11da0fdb14"
  },
  {
   "cell_type": "code",
   "execution_count": 50,
   "outputs": [],
   "source": [
    "def find_ed_years(df, percent):\n",
    "    provinces_amount = int(27 * (percent/100))\n",
    "    temp_df = df[['Year', 'area', 'VHI']]\n",
    "    temp_df = temp_df[temp_df['VHI'] < 15]\n",
    "    drought_count = temp_df.groupby('Year')['area'].nunique().reset_index()\n",
    "    drought_count.columns = ['Year', 'Drought_Area_Count']\n",
    "    ed_years = drought_count[drought_count['Drought_Area_Count'] > provinces_amount]\n",
    "    temp_df = temp_df[temp_df['Year'].isin(ed_years['Year'])]\n",
    "    temp_df.reset_index(drop=True, inplace=True)\n",
    "    \n",
    "    return temp_df"
   ],
   "metadata": {
    "collapsed": false,
    "ExecuteTime": {
     "end_time": "2024-10-21T12:07:50.814119900Z",
     "start_time": "2024-10-21T12:07:50.789174Z"
    }
   },
   "id": "e327fd58d19e7fec"
  },
  {
   "cell_type": "code",
   "execution_count": 52,
   "outputs": [
    {
     "data": {
      "text/plain": "    Year  area    VHI\n0   2000     9  12.51\n1   2000     9  10.60\n2   2000     9  11.20\n3   2000     9  12.32\n4   2000     9  14.65\n..   ...   ...    ...\n83  2007    20  12.96\n84  2007    20  13.48\n85  2007    20  14.05\n86  2007    20  14.41\n87  2007    20  14.81\n\n[88 rows x 3 columns]",
      "text/html": "<div>\n<style scoped>\n    .dataframe tbody tr th:only-of-type {\n        vertical-align: middle;\n    }\n\n    .dataframe tbody tr th {\n        vertical-align: top;\n    }\n\n    .dataframe thead th {\n        text-align: right;\n    }\n</style>\n<table border=\"1\" class=\"dataframe\">\n  <thead>\n    <tr style=\"text-align: right;\">\n      <th></th>\n      <th>Year</th>\n      <th>area</th>\n      <th>VHI</th>\n    </tr>\n  </thead>\n  <tbody>\n    <tr>\n      <th>0</th>\n      <td>2000</td>\n      <td>9</td>\n      <td>12.51</td>\n    </tr>\n    <tr>\n      <th>1</th>\n      <td>2000</td>\n      <td>9</td>\n      <td>10.60</td>\n    </tr>\n    <tr>\n      <th>2</th>\n      <td>2000</td>\n      <td>9</td>\n      <td>11.20</td>\n    </tr>\n    <tr>\n      <th>3</th>\n      <td>2000</td>\n      <td>9</td>\n      <td>12.32</td>\n    </tr>\n    <tr>\n      <th>4</th>\n      <td>2000</td>\n      <td>9</td>\n      <td>14.65</td>\n    </tr>\n    <tr>\n      <th>...</th>\n      <td>...</td>\n      <td>...</td>\n      <td>...</td>\n    </tr>\n    <tr>\n      <th>83</th>\n      <td>2007</td>\n      <td>20</td>\n      <td>12.96</td>\n    </tr>\n    <tr>\n      <th>84</th>\n      <td>2007</td>\n      <td>20</td>\n      <td>13.48</td>\n    </tr>\n    <tr>\n      <th>85</th>\n      <td>2007</td>\n      <td>20</td>\n      <td>14.05</td>\n    </tr>\n    <tr>\n      <th>86</th>\n      <td>2007</td>\n      <td>20</td>\n      <td>14.41</td>\n    </tr>\n    <tr>\n      <th>87</th>\n      <td>2007</td>\n      <td>20</td>\n      <td>14.81</td>\n    </tr>\n  </tbody>\n</table>\n<p>88 rows × 3 columns</p>\n</div>"
     },
     "execution_count": 52,
     "metadata": {},
     "output_type": "execute_result"
    }
   ],
   "source": [
    "find_ed_years(adf, 10)"
   ],
   "metadata": {
    "collapsed": false,
    "ExecuteTime": {
     "end_time": "2024-10-21T12:08:05.831142200Z",
     "start_time": "2024-10-21T12:08:05.784749700Z"
    }
   },
   "id": "848d582ec0f0b9a4"
  }
 ],
 "metadata": {
  "kernelspec": {
   "display_name": "Python 3",
   "language": "python",
   "name": "python3"
  },
  "language_info": {
   "codemirror_mode": {
    "name": "ipython",
    "version": 2
   },
   "file_extension": ".py",
   "mimetype": "text/x-python",
   "name": "python",
   "nbconvert_exporter": "python",
   "pygments_lexer": "ipython2",
   "version": "2.7.6"
  }
 },
 "nbformat": 4,
 "nbformat_minor": 5
}
